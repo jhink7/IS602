{
 "metadata": {
  "name": "",
  "signature": "sha256:1fc70924e869411b4dd0456158161ab556a7b8cd330adc45f926c6841325886a"
 },
 "nbformat": 3,
 "nbformat_minor": 0,
 "worksheets": [
  {
   "cells": [
    {
     "cell_type": "code",
     "collapsed": false,
     "input": [
      "if __name__ == \"__main__\":\n",
      "    import csv;\n",
      "    import numpy as np\n",
      "    import pandas as pd\n",
      "    import matplotlib.pyplot as plt\n",
      "    from matplotlib import gridspec\n",
      "\n",
      "    # import data\n",
      "    # pre-processing note:  I named the 3rd column \"PctChange\" and changed the first\n",
      "    # value from XXXX to 0 manually in the csv before import\n",
      "    apl = pd.read_csv('C:/CUNY/IS602/Python Code/apple.2011.csv', header=0, error_bad_lines=False)\n",
      "\n",
      "    # since we're sampling from a normal distribution, we need to know the mean and\n",
      "    # standard deviation of the stock.  Note that this relies on the assumption that\n",
      "    # past, measured std is a good predictor of future std. It probably is not.\n",
      "\n",
      "    mu = apl.PctChange.mean()\n",
      "    sigma = apl.PctChange.std()\n",
      "\n",
      "    numSims = 100000;\n",
      "    numSimDays = 20\n",
      "\n",
      "    last = float(apl.Last.tail(1))\n",
      "\n",
      "    simFinalPrices = []\n",
      "    #generate 20 random price movements as a percentage\n",
      "    for i in range(numSims):\n",
      "        s = np.random.normal(mu, sigma, numSimDays)\n",
      "\n",
      "        simCurrPrice = last\n",
      "        # simulate 20 days\n",
      "        for j in range(numSimDays):\n",
      "            simCurrPrice = simCurrPrice * (1+s[j])\n",
      "\n",
      "        simFinalPrices.append(simCurrPrice)\n",
      "\n",
      "    simFinalPrices.sort()\n",
      "    p = np.percentile(simFinalPrices, 1)\n",
      "    print \"VaR: \" +str(p)\n",
      "\n",
      "\n"
     ],
     "language": "python",
     "metadata": {},
     "outputs": [
      {
       "output_type": "stream",
       "stream": "stdout",
       "text": [
        "VaR: 346.732321335\n"
       ]
      }
     ],
     "prompt_number": 1
    },
    {
     "cell_type": "code",
     "collapsed": false,
     "input": [],
     "language": "python",
     "metadata": {},
     "outputs": []
    }
   ],
   "metadata": {}
  }
 ]
}