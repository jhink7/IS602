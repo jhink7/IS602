{
 "metadata": {
  "name": "",
  "signature": "sha256:96d344337d5e6b438ce5d83e0761a18e31f4b2ef3a14683053224f2d8ad84942"
 },
 "nbformat": 3,
 "nbformat_minor": 0,
 "worksheets": [
  {
   "cells": [
    {
     "cell_type": "code",
     "collapsed": false,
     "input": [
      "def computeVaRParallel(mu, sigma, numSimDays, numSims, last):\n",
      "    def SimAppleFuture(mu, sigma, numSimDays, numSims, last):\n",
      "        import numpy as np\n",
      "        simFinalPrices = []\n",
      "\n",
      "        #  generate 20 random price movements as a percentage\n",
      "        for i in range(numSims):\n",
      "            s = np.random.normal(mu, sigma, numSimDays)\n",
      "\n",
      "            simCurrPrice = last\n",
      "            # simulate 20 days\n",
      "            for j in range(numSimDays):\n",
      "                simCurrPrice = simCurrPrice * (1+s[j])\n",
      "\n",
      "            simFinalPrices.append(simCurrPrice)\n",
      "        return simFinalPrices\n",
      "\n",
      "    ar = dview.apply_async(SimAppleFuture, mu, sigma, numSimDays, numSims, last)\n",
      "\n",
      "    dview.wait(ar)\n",
      "    result = ar.get()\n",
      "    numEngs =  len(result)\n",
      "\n",
      "    #gather all results\n",
      "    allsims = []\n",
      "    for i in range(numEngs):\n",
      "        for j in range(len(result[i])):\n",
      "            allsims.append(result[i][j])\n",
      "\n",
      "    #find the 1st percentile on the aggregated results\n",
      "    allsims.sort()\n",
      "    p = np.percentile(allsims, 1)\n",
      "    print \"VaR (parallel calc): \" +str(p)\n",
      "\n",
      "def computeVaRSerial(mu, sigma, numSimDays, numSims, last):\n",
      "    simFinalPrices = []\n",
      "\n",
      "    numSims = numSims * 4\n",
      "\n",
      "    #generate 20 random price movements as a percentage\n",
      "    for i in range(numSims):\n",
      "        s = np.random.normal(mu, sigma, numSimDays)\n",
      "\n",
      "        simCurrPrice = last\n",
      "        # simulate 20 days\n",
      "        for j in range(numSimDays):\n",
      "            simCurrPrice = simCurrPrice * (1+s[j])\n",
      "\n",
      "        simFinalPrices.append(simCurrPrice)\n",
      "\n",
      "    simFinalPrices.sort()\n",
      "    p = np.percentile(simFinalPrices, 1)\n",
      "    print \"VaR (serial calc): \" +str(p)\n",
      "\n",
      "if __name__ == \"__main__\":\n",
      "    import numpy as np\n",
      "    import pandas as pd\n",
      "    import timeit\n",
      "    from IPython.parallel import Client\n",
      "    c = Client()\n",
      "    dview = c[:]\n",
      "\n",
      "    apl = pd.read_csv('C:/CUNY/IS602/Python Code/apple.2011.csv', header=0, error_bad_lines=False)\n",
      "\n",
      "    # since we're sampling from a normal distribution, we need to know the mean and\n",
      "    # standard deviation of the stock.  Note that this relies on the assumption that\n",
      "    # past, measured std is a good predictor of future std. It probably is not.\n",
      "    mu = apl.PctChange.mean()\n",
      "    sigma = apl.PctChange.std()\n",
      "\n",
      "    # set to 25000 per engine. 4 engines = 100000 sims (what I used in hw11)\n",
      "    numSims = 25000\n",
      "    numSimDays = 20\n",
      "\n",
      "    last = float(apl.Last.tail(1))\n",
      "\n",
      "    t1 = timeit.Timer(stmt=\"computeVaRParallel(mu, sigma, numSimDays, numSims, last)\",\n",
      "                      setup=\"from __main__ import computeVaRParallel, mu, sigma, numSimDays, numSims, last\")\n",
      "    t2 = timeit.Timer(stmt=\"computeVaRSerial(mu, sigma, numSimDays, numSims, last)\",\n",
      "                      setup=\"from __main__ import computeVaRSerial, mu, sigma, numSimDays, numSims, last\")\n",
      "\n",
      "    print \"Parallel exec time: \" + str(t1.timeit(number=1)) +\" s\"\n",
      "    print \"Serial exec time: \" + str(t2.timeit(number=1)) +\" s\"\n",
      "\n",
      "\n"
     ],
     "language": "python",
     "metadata": {},
     "outputs": [
      {
       "output_type": "stream",
       "stream": "stdout",
       "text": [
        "VaR (parallel calc): 345.991698525\n",
        "Parallel exec time: 0.80263556287 s\n",
        "VaR (serial calc): 346.17518834"
       ]
      },
      {
       "output_type": "stream",
       "stream": "stdout",
       "text": [
        "\n",
        "Serial exec time: 1.94638040813 s\n"
       ]
      }
     ],
     "prompt_number": 2
    },
    {
     "cell_type": "code",
     "collapsed": false,
     "input": [],
     "language": "python",
     "metadata": {},
     "outputs": []
    }
   ],
   "metadata": {}
  }
 ]
}